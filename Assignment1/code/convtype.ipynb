{
 "cells": [
  {
   "cell_type": "code",
   "execution_count": 20,
   "metadata": {
    "collapsed": false
   },
   "outputs": [],
   "source": [
    "# data preprocessing\n",
    "CPU_CORES = 1\n",
    "import warnings\n",
    "warnings.filterwarnings(\"ignore\")\n",
    "import numpy as np\n",
    "import sklearn.cross_validation as cv\n",
    "from sklearn.grid_search import GridSearchCV\n",
    "from collections import Counter\n",
    "# cap input data size\n",
    "SIZE_DATA = 30000\n",
    "\n",
    "# import data\n",
    "# X: 54 features\n",
    "# Y: 1 label \n",
    "X = [list(map(int, x.split(',')[:-1])) for x in open('covtype.data').read().splitlines()[:SIZE_DATA]]\n",
    "_Y = [x.split(',')[-1] for x in open('covtype.data').read().splitlines()[:SIZE_DATA]]\n",
    "# treat the largest class as positive, the rest as negative\n",
    "Y = [int(x) - 1 for x in _Y]\n",
    "\n",
    "xTrain, xTest, yTrain, yTest = cv.train_test_split(X, Y, train_size = 5000/len(X))"
   ]
  },
  {
   "cell_type": "code",
   "execution_count": 22,
   "metadata": {
    "collapsed": false
   },
   "outputs": [
    {
     "name": "stdout",
     "output_type": "stream",
     "text": [
      "best number of C:3\n",
      "Model accuracy: 0.52104\n"
     ]
    }
   ],
   "source": [
    "# linearSVC OVA approach\n",
    "from sklearn import svm as svm\n",
    "clf = svm.LinearSVC(C=1.0,\n",
    "     multi_class='ovr', random_state=None, tol=0.0001,\n",
    "     verbose=0, dual = True, max_iter=1)\n",
    "\n",
    "param_grid = {\n",
    "    'C': [0.1, 1, 2, 3, 4, 5, 6, 7, 8, 9]\n",
    "}\n",
    "\n",
    "CV = GridSearchCV(clf, param_grid=param_grid, cv=5)\n",
    "CV.fit(xTrain, yTrain)\n",
    "\n",
    "print(\"best number of C:\" + str(CV.best_params_['C']))\n",
    "print (\"Model accuracy: \" + str(CV.score(xTest, yTest)))\n",
    "\n",
    "\n"
   ]
  },
  {
   "cell_type": "code",
   "execution_count": 3,
   "metadata": {
    "collapsed": false
   },
   "outputs": [
    {
     "name": "stdout",
     "output_type": "stream",
     "text": [
      "Model accuracy: 0.25844\n",
      "best number of C:4\n"
     ]
    }
   ],
   "source": [
    "# linearSVC explicit approach\n",
    "from sklearn import svm as svm\n",
    "clf = svm.LinearSVC(C=1.0,\n",
    "     multi_class='crammer_singer', random_state=None, tol=0.0001,\n",
    "     verbose=0)\n",
    "\n",
    "param_grid = {\n",
    "    'C': [0.1, 1, 2, 3, 4, 5, 6, 7, 8, 9]\n",
    "}\n",
    "\n",
    "CV = GridSearchCV(clf, param_grid=param_grid, cv=5)\n",
    "CV.fit(xTrain, yTrain)\n",
    "\n",
    "print (\"Model accuracy: \" + str(CV.score(xTest, yTest)))\n",
    "print(\"best number of C:\" + str(CV.best_params_['C']))"
   ]
  },
  {
   "cell_type": "code",
   "execution_count": null,
   "metadata": {
    "collapsed": true
   },
   "outputs": [],
   "source": []
  },
  {
   "cell_type": "code",
   "execution_count": null,
   "metadata": {
    "collapsed": true
   },
   "outputs": [],
   "source": []
  }
 ],
 "metadata": {
  "kernelspec": {
   "display_name": "Python 3",
   "language": "python",
   "name": "python3"
  },
  "language_info": {
   "codemirror_mode": {
    "name": "ipython",
    "version": 3
   },
   "file_extension": ".py",
   "mimetype": "text/x-python",
   "name": "python",
   "nbconvert_exporter": "python",
   "pygments_lexer": "ipython3",
   "version": "3.4.1"
  }
 },
 "nbformat": 4,
 "nbformat_minor": 0
}
